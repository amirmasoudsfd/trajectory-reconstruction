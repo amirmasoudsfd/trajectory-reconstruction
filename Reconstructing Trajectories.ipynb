{
 "cells": [
  {
   "cell_type": "markdown",
   "metadata": {},
   "source": [
    "## Raw Input Data\n",
    "\n",
    "The data you'll be working with has been preprocessed from CSVs that looks like this:\n",
    "\n",
    "| timestamp | displacement  | yaw_rate | acceleration |\n",
    "| :-------: | :----------: | :------: | :----------: |\n",
    "| 0.0 | 0 | 0.0 | 0.0 |\n",
    "| 0.25 | 0.0 | 0.0 | 19.6 |\n",
    "| 0.5 | 1.225 | 0.0 | 19.6 |\n",
    "| 0.75 | 3.675 | 0.0 | 19.6 |\n",
    "| 1.0 | 7.35 | 0.0 | 19.6 |\n",
    "| 1.25 | 12.25 | 0.0 | 0.0 |\n",
    "| 1.5 | 17.15 | -2.82901631903 | 0.0 |\n",
    "| 1.75 | 22.05 | -2.82901631903 | 0.0 |\n",
    "| 2.0 | 26.95 | -2.82901631903 | 0.0 |\n",
    "| 2.25 | 31.85 | -2.82901631903 | 0.0 |\n",
    "| 2.5 | 36.75 | -2.82901631903 | 0.0 |\n",
    "| 2.75 | 41.65 | -2.82901631903 | 0.0 |\n",
    "| 3.0 | 46.55 | -2.82901631903 | 0.0 |\n",
    "| 3.25 | 51.45 | -2.82901631903 | 0.0 |\n",
    "| 3.5 | 56.35 | -2.82901631903 | 0.0 |\n",
    "\n",
    "This data is currently saved in a file called `trajectory_example.pickle`. It can be loaded using a helper function we've provided (demonstrated below):"
   ]
  },
  {
   "cell_type": "code",
   "execution_count": 67,
   "metadata": {},
   "outputs": [
    {
     "name": "stdout",
     "output_type": "stream",
     "text": [
      "(0.0, 0, 0.0, 0.0)\n",
      "(0.25, 0.0, 0.0, 19.6)\n",
      "(0.5, 1.225, 0.0, 19.6)\n",
      "(0.75, 3.6750000000000003, 0.0, 19.6)\n",
      "(1.0, 7.3500000000000005, 0.0, 19.6)\n",
      "(1.25, 12.25, 0.0, 0.0)\n",
      "(1.5, 17.15, -2.8290163190291664, 0.0)\n",
      "(1.75, 22.049999999999997, -2.8290163190291664, 0.0)\n",
      "(2.0, 26.949999999999996, -2.8290163190291664, 0.0)\n",
      "(2.25, 31.849999999999994, -2.8290163190291664, 0.0)\n",
      "(2.5, 36.74999999999999, -2.8290163190291664, 0.0)\n",
      "(2.75, 41.64999999999999, -2.8290163190291664, 0.0)\n",
      "(3.0, 46.54999999999999, -2.8290163190291664, 0.0)\n",
      "(3.25, 51.44999999999999, -2.8290163190291664, 0.0)\n",
      "(3.5, 56.34999999999999, -2.8290163190291664, 0.0)\n"
     ]
    }
   ],
   "source": [
    "from helpers import process_data\n",
    "%matplotlib inline\n",
    "\n",
    "data_list = process_data(\"trajectory_example.pickle\")\n",
    "\n",
    "for entry in data_list:\n",
    "    print(entry)"
   ]
  },
  {
   "cell_type": "code",
   "execution_count": 85,
   "metadata": {},
   "outputs": [
    {
     "data": {
      "text/plain": [
       "6"
      ]
     },
     "execution_count": 85,
     "metadata": {},
     "output_type": "execute_result"
    }
   ],
   "source": [
    "len(data_list)"
   ]
  },
  {
   "cell_type": "markdown",
   "metadata": {},
   "source": [
    "as you can see, each entry in `data_list` contains four fields. Those fields correspond to `timestamp` (seconds), `displacement` (meters), `yaw_rate` (rads / sec), and `acceleration` (m/s/s).\n",
    "\n",
    "### The Point of this Project!\n",
    "**Data tells a story but you have to know how to find it!** \n",
    "\n",
    "Contained in the data above is all the information you need to reconstruct a fairly complex vehicle trajectory. After processing **this** exact data, it's possible to generate this plot of the vehicle's X and Y position:\n",
    "\n",
    "![](https://d17h27t6h515a5.cloudfront.net/topher/2017/December/5a3044ac_example-trajectory/example-trajectory.png)\n",
    "\n",
    "as you can see, this vehicle first accelerates forwards and then turns right until it almost completes a full circle turn.\n",
    "\n",
    "### Data Explained\n",
    "\n",
    "**`timestamp`** - Timestamps are all measured in seconds. The time between successive timestamps ($\\Delta t$) will always be the same *within* a trajectory's data set (but not *between* data sets).\n",
    "\n",
    "**`displacement`** - Displacement data from the odometer is in meters and gives the **total** distance traveled **up to this point**.\n",
    "\n",
    "**`yaw_rate`** - Yaw rate is measured in **radians per second** with the convention that **positive** yaw corresponds to ***counter-clockwise*** rotation. \n",
    "\n",
    "**`acceleration`** - Acceleration is measured in $\\frac{m/s}{s}$ and is always **in the direction of motion of the vehicle** (forward). \n",
    "\n",
    "> **NOTE** - you may not need to use all of this data when reconstructing vehicle trajectories."
   ]
  },
  {
   "cell_type": "markdown",
   "metadata": {},
   "source": [
    "## Your Job\n",
    "Your job is to complete the following functions, all of which take a processed `data_list` (with $N$ entries, each $\\Delta t$ apart) as input:\n",
    "\n",
    "* `get_speeds` - returns a length $N$ list where entry $i$ contains the speed ($m/s$) of the vehicle at $t = i \\times \\Delta t$ \n",
    "\n",
    "* `get_headings` - returns a length $N$ list where entry $i$ contains the heading (radians, $0 \\leq \\theta < 2\\pi$) of the vehicle at $t = i \\times \\Delta t$\n",
    "\n",
    "* `get_x_y` - returns a length $N$ list where entry $i$ contains an `(x, y)` tuple corresponding to the $x$ and $y$ coordinates (meters) of the vehicle at $t = i \\times \\Delta t$ \n",
    "\n",
    "* `show_x_y` - generates an x vs. y scatter plot of vehicle positions. "
   ]
  },
  {
   "cell_type": "code",
   "execution_count": 72,
   "metadata": {},
   "outputs": [
    {
     "data": {
      "image/png": "[encoded data removed]",
      "text/plain": [
       "<Figure size 432x288 with 1 Axes>"
      ]
     },
     "metadata": {
      "needs_background": "light"
     },
     "output_type": "display_data"
    }
   ],
   "source": [
    "# I've provided a solution file called solution.py\n",
    "# You are STRONGLY encouraged to NOT look at the code\n",
    "# until after you have solved this yourself.\n",
    "#\n",
    "# You SHOULD, however, feel free to USE the solution \n",
    "# functions to help you understand what your code should\n",
    "# be doing. For example...\n",
    "from helpers import process_data\n",
    "import solution\n",
    "\n",
    "data_list = process_data(\"trajectory_example.pickle\")\n",
    "solution.show_x_y(data_list)"
   ]
  },
  {
   "cell_type": "code",
   "execution_count": 73,
   "metadata": {},
   "outputs": [
    {
     "data": {
      "image/png": "[encoded data removed]",
      "text/plain": [
       "<Figure size 432x288 with 1 Axes>"
      ]
     },
     "metadata": {
      "needs_background": "light"
     },
     "output_type": "display_data"
    }
   ],
   "source": [
    "# What about the other trajectories?\n",
    "\n",
    "three_quarter_turn_data = process_data(\"trajectory_1.pickle\")\n",
    "solution.show_x_y(three_quarter_turn_data, increment=10)"
   ]
  },
  {
   "cell_type": "code",
   "execution_count": 74,
   "metadata": {
    "scrolled": true
   },
   "outputs": [
    {
     "data": {
      "image/png": "[encoded data removed]",
      "text/plain": [
       "<Figure size 432x288 with 1 Axes>"
      ]
     },
     "metadata": {
      "needs_background": "light"
     },
     "output_type": "display_data"
    }
   ],
   "source": [
    "merge_data = process_data('trajectory_2.pickle')\n",
    "solution.show_x_y(merge_data, increment=10)"
   ]
  },
  {
   "cell_type": "code",
   "execution_count": 75,
   "metadata": {},
   "outputs": [
    {
     "data": {
      "image/png": "[encoded data removed]",
      "text/plain": [
       "<Figure size 432x288 with 1 Axes>"
      ]
     },
     "metadata": {
      "needs_background": "light"
     },
     "output_type": "display_data"
    }
   ],
   "source": [
    "parallel_park = process_data(\"trajectory_3.pickle\")\n",
    "solution.show_x_y(parallel_park, increment=5)"
   ]
  },
  {
   "cell_type": "markdown",
   "metadata": {},
   "source": [
    "**How do you make those cool arrows?!**\n",
    "\n",
    "I did a Google search for \"python plot grid of arrows\" and the second result led me to some [demonstration code](https://matplotlib.org/examples/pylab_examples/quiver_demo.html) that was really helpful. "
   ]
  },
  {
   "cell_type": "markdown",
   "metadata": {},
   "source": [
    "## Testing Correctness\n",
    "Testing code is provided at the bottom of this notebook. Note that only `get_speeds`, `get_x_y`, and `get_headings` are tested automatically. You will have to \"test\" your `show_x_y` function by manually comparing your plots to the expected plots. "
   ]
  },
  {
   "cell_type": "markdown",
   "metadata": {},
   "source": [
    "### Initial Vehicle State\n",
    "\n",
    "**The vehicle always begins with all state variables equal to zero**. This means `x`, `y`, `theta` (heading), `speed`, `yaw_rate`, and `acceleration` are 0 at t=0."
   ]
  },
  {
   "cell_type": "markdown",
   "metadata": {},
   "source": [
    "## Your Code!\n",
    "Complete the functions in the cell below. I recommend completing them in the order shown. Use the cells at the end of the notebook to test as you go."
   ]
  },
  {
   "cell_type": "code",
   "execution_count": 173,
   "metadata": {},
   "outputs": [],
   "source": [
    "from math import cos, sin, pi\n",
    "import matplotlib.pyplot as plt\n",
    "import numpy as np\n",
    "\n",
    "\n",
    "def get_speeds(data_list):\n",
    "    last_time = 0.0\n",
    "    last_disp = 0.0\n",
    "    speeds = [0.0]\n",
    "    for entry in data_list[1:]:\n",
    "        # unpack the entry\n",
    "        ts, disp, yaw, acc = entry\n",
    "\n",
    "        # calculate avg speed for this time interval\n",
    "        dx = disp - last_disp\n",
    "        dt = ts - last_time\n",
    "        if dt < 0.0001:\n",
    "            print(\"error! dt is too small\")\n",
    "            speeds.append(0.0)\n",
    "            continue\n",
    "        v = dx / dt\n",
    "\n",
    "        # add to history of speeds\n",
    "        speeds.append(v)\n",
    "\n",
    "        # update last_time and last_disp to new vals\n",
    "        last_time = ts\n",
    "        last_disp = disp\n",
    "    return speeds\n",
    "\n",
    "\n",
    "def get_headings(data_list):\n",
    "    last_time = 0.0\n",
    "    theta = 0.0\n",
    "    thetas = [0.0]\n",
    "    for entry in data_list[1:]:\n",
    "        ts, disp, yaw, acc = entry\n",
    "        dt = ts - last_time\n",
    "        d_theta = dt * yaw\n",
    "        theta += d_theta\n",
    "        theta %= (2 * pi) # avoid to exceed 2*pi. 6*pi ==> 0*pi\n",
    "        thetas.append(theta)\n",
    "        last_time = ts\n",
    "    return thetas\n",
    "\n",
    "\n",
    "def get_x_y(data_list):\n",
    "    speeds = get_speeds(data_list)\n",
    "    thetas = get_headings(data_list)\n",
    "    x = 0.0\n",
    "    y = 0.0\n",
    "    last_time = 0.0\n",
    "    XY = [(x, y)]\n",
    "    for i in range(1, len(data_list)):\n",
    "        speed = speeds[i]\n",
    "        theta = thetas[i]\n",
    "        entry = data_list[i]\n",
    "        ts, disp, yaw, acc = entry\n",
    "        dt = ts - last_time\n",
    "        D = speed * dt\n",
    "        dx = D * cos(theta)\n",
    "        dy = D * sin(theta)\n",
    "        x += dx\n",
    "        y += dy\n",
    "        XY.append((x, y))\n",
    "        last_time = ts\n",
    "    return XY\n",
    "\n",
    "\n",
    "def show_x_y(data_list, increment=1):\n",
    "    XY = get_x_y(data_list)\n",
    "    headings = get_headings(data_list)\n",
    "    X = [d[0] for d in XY]\n",
    "    Y = [d[1] for d in XY]\n",
    "    h_x = np.cos(headings)\n",
    "    h_y = np.sin(headings)\n",
    "#     print(h_x)\n",
    "#     print(h_y)\n",
    "    Q = plt.quiver(X[::increment],\n",
    "                   Y[::increment],\n",
    "                   h_x[::increment],\n",
    "                   h_y[::increment],\n",
    "                   units='x',\n",
    "                   pivot='tip')\n",
    "\n",
    "#     headings_deg = [rad *180/pi for rad in headings]\n",
    "    \n",
    "#     Q = plt.quiver(X[::increment],\n",
    "#                Y[::increment],\n",
    "#                angles=headings_deg[::increment], \n",
    "#                units='x',\n",
    "#                pivot='tip')\n",
    "    \n",
    "    qk = plt.quiverkey(Q, 0.9, 0.9, 2, r'$1 \\frac{m}{s}',\n",
    "                       labelpos='E', coordinates='figure')\n",
    "    plt.show()"
   ]
  },
  {
   "cell_type": "markdown",
   "metadata": {},
   "source": [
    "## Testing\n",
    "Test your functions by running the cells below."
   ]
  },
  {
   "cell_type": "code",
   "execution_count": 174,
   "metadata": {},
   "outputs": [
    {
     "name": "stdout",
     "output_type": "stream",
     "text": [
      "PASSED test of get_speeds function!\n"
     ]
    }
   ],
   "source": [
    "from testing import test_get_speeds, test_get_x_y, test_get_headings\n",
    "\n",
    "test_get_speeds(get_speeds)"
   ]
  },
  {
   "cell_type": "code",
   "execution_count": 175,
   "metadata": {},
   "outputs": [
    {
     "name": "stdout",
     "output_type": "stream",
     "text": [
      "PASSED test of get_headings function!\n"
     ]
    }
   ],
   "source": [
    "test_get_headings(get_headings)"
   ]
  },
  {
   "cell_type": "code",
   "execution_count": 176,
   "metadata": {},
   "outputs": [
    {
     "name": "stdout",
     "output_type": "stream",
     "text": [
      "PASSED test of get_x_y function!\n"
     ]
    }
   ],
   "source": [
    "test_get_x_y(get_x_y)"
   ]
  },
  {
   "cell_type": "code",
   "execution_count": 177,
   "metadata": {},
   "outputs": [
    {
     "data": {
      "image/png": "[encoded data removed]",
      "text/plain": [
       "<Figure size 432x288 with 1 Axes>"
      ]
     },
     "metadata": {
      "needs_background": "light"
     },
     "output_type": "display_data"
    }
   ],
   "source": [
    "show_x_y(data_list)"
   ]
  },
  {
   "cell_type": "code",
   "execution_count": 178,
   "metadata": {},
   "outputs": [
    {
     "data": {
      "image/png": "[encoded data removed]",
      "text/plain": [
       "<Figure size 432x288 with 1 Axes>"
      ]
     },
     "metadata": {
      "needs_background": "light"
     },
     "output_type": "display_data"
    }
   ],
   "source": [
    "data_list = process_data(\"trajectory_1.pickle\")\n",
    "show_x_y(data_list, increment=2)"
   ]
  },
  {
   "cell_type": "code",
   "execution_count": 179,
   "metadata": {},
   "outputs": [],
   "source": [
    "data_list = [\n",
    "    (0.0, 0, 0.0, 0.0),\n",
    "    (1, 1, 0.0, 2),\n",
    "    (2, 3, pi/2, 2),\n",
    "    (3, 5, 0.0, 2),\n",
    "    (4, 7, 0.0, 2),\n",
    "    (5, 10, 0.0, 0.0),\n",
    "]"
   ]
  },
  {
   "cell_type": "code",
   "execution_count": 180,
   "metadata": {},
   "outputs": [
    {
     "data": {
      "text/plain": [
       "[0.0,\n",
       " 0.0,\n",
       " 1.5707963267948966,\n",
       " 1.5707963267948966,\n",
       " 1.5707963267948966,\n",
       " 1.5707963267948966]"
      ]
     },
     "execution_count": 180,
     "metadata": {},
     "output_type": "execute_result"
    }
   ],
   "source": [
    "get_headings(data_list)"
   ]
  },
  {
   "cell_type": "code",
   "execution_count": 181,
   "metadata": {},
   "outputs": [
    {
     "data": {
      "text/plain": [
       "[0.0, 0.0, 1.5707963267948966, 0.0, 0.0, 0.0]"
      ]
     },
     "execution_count": 181,
     "metadata": {},
     "output_type": "execute_result"
    }
   ],
   "source": [
    "[data[2] for data in data_list]"
   ]
  },
  {
   "cell_type": "code",
   "execution_count": 182,
   "metadata": {},
   "outputs": [
    {
     "data": {
      "image/png": "[encoded data removed]",
      "text/plain": [
       "<Figure size 432x288 with 1 Axes>"
      ]
     },
     "metadata": {
      "needs_background": "light"
     },
     "output_type": "display_data"
    }
   ],
   "source": [
    "show_x_y(data_list, increment=1)"
   ]
  }
 ],
 "metadata": {
  "kernelspec": {
   "display_name": "Python 3",
   "language": "python",
   "name": "python3"
  },
  "language_info": {
   "codemirror_mode": {
    "name": "ipython",
    "version": 3
   },
   "file_extension": ".py",
   "mimetype": "text/x-python",
   "name": "python",
   "nbconvert_exporter": "python",
   "pygments_lexer": "ipython3",
   "version": "3.7.4"
  },
  "varInspector": {
   "cols": {
    "lenName": 16,
    "lenType": 16,
    "lenVar": 40
   },
   "kernels_config": {
    "python": {
     "delete_cmd_postfix": "",
     "delete_cmd_prefix": "del ",
     "library": "var_list.py",
     "varRefreshCmd": "print(var_dic_list())"
    },
    "r": {
     "delete_cmd_postfix": ") ",
     "delete_cmd_prefix": "rm(",
     "library": "var_list.r",
     "varRefreshCmd": "cat(var_dic_list()) "
    }
   },
   "types_to_exclude": [
    "module",
    "function",
    "builtin_function_or_method",
    "instance",
    "_Feature"
   ],
   "window_display": false
  }
 },
 "nbformat": 4,
 "nbformat_minor": 2
}
